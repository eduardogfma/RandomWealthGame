{
 "cells": [
  {
   "cell_type": "markdown",
   "metadata": {},
   "source": [
    "# Imports"
   ]
  },
  {
   "cell_type": "code",
   "execution_count": 4,
   "metadata": {
    "collapsed": true
   },
   "outputs": [],
   "source": [
    "import numpy as np\n",
    "import pandas as pd\n",
    "import matplotlib.pyplot as plt\n",
    "%matplotlib inline  "
   ]
  },
  {
   "cell_type": "markdown",
   "metadata": {},
   "source": [
    "# Defining agent object"
   ]
  },
  {
   "cell_type": "code",
   "execution_count": 5,
   "metadata": {
    "collapsed": true
   },
   "outputs": [],
   "source": [
    "class Agent (object):\n",
    "    def __init__(self, unique_id, i_wealth, N, debt):\n",
    "        self.id = unique_id\n",
    "        self.wealth = i_wealth\n",
    "        self.N = N\n",
    "        self.other_agents = self.OtherAgents()\n",
    "        self.debt = debt\n",
    "        \n",
    "    def OtherAgents (self):\n",
    "        lst = []\n",
    "        for i in range(self.N):\n",
    "            if self.id != i:\n",
    "                lst.append(i)\n",
    "        return lst\n",
    "    \n",
    "    def GiveMoney(self):\n",
    "        # Select agent to give money\n",
    "        agent2give = np.random.choice(self.other_agents)\n",
    "        if self.wealth == 0 and self.debt == 'no':\n",
    "            amount = 0\n",
    "        else:\n",
    "            amount = 1\n",
    "        self.wealth = self.wealth - amount\n",
    "        return agent2give, amount\n",
    "    \n",
    "    def Receive (self):\n",
    "        self.wealth = self.wealth + 1\n",
    "        "
   ]
  },
  {
   "cell_type": "markdown",
   "metadata": {},
   "source": [
    "# 1st Simulation - No debt allowed"
   ]
  },
  {
   "cell_type": "code",
   "execution_count": 6,
   "metadata": {
    "collapsed": true
   },
   "outputs": [],
   "source": [
    "# Creating agents\n",
    "\n",
    "# Defining parameters\n",
    "N = 10\n",
    "wealth = 1\n",
    "agents = []\n",
    "debt = 'no' # valid choices: 'yes', 'no'\n",
    "\n",
    "for i in range(N):\n",
    "    unique_id = i\n",
    "    agents.append(Agent(unique_id, wealth, N, debt))\n",
    "\n",
    "# Starting game\n",
    "run_data = np.arange(N)\n",
    "runs = 500\n",
    "steps = 100\n",
    "for k in range(runs):\n",
    "    for i in range(steps):\n",
    "        # Initialize agents Rrandomly\n",
    "        np.random.shuffle(agents)\n",
    "\n",
    "        # Tick\n",
    "        for agent in agents:\n",
    "            receiver, amount = agent.GiveMoney()\n",
    "            if amount !=0:\n",
    "                agents[receiver].Receive()\n",
    "\n",
    "    # Data collection\n",
    "    data = np.zeros((N,2))\n",
    "    for i in range(len(agents)):\n",
    "        data[i,0] = agents[i].id\n",
    "        data[i,1] = agents[i].wealth\n",
    "\n",
    "    # Sort array\n",
    "    d = data[data[:,0].argsort()][:,1]\n",
    "    noDebtRun_data = np.vstack((run_data, d))"
   ]
  },
  {
   "cell_type": "code",
   "execution_count": 7,
   "metadata": {
    "collapsed": true
   },
   "outputs": [],
   "source": [
    "# x = range(N)\n",
    "# plt.bar(data[:,0], data[:,1])\n",
    "# plt.xlabel('Agents id')\n",
    "# plt.ylabel('Whealth')\n",
    "# plt.title('Random Wealth Game')\n",
    "# plt.grid(True)\n",
    "# plt.show()"
   ]
  },
  {
   "cell_type": "code",
   "execution_count": 8,
   "metadata": {
    "collapsed": true
   },
   "outputs": [],
   "source": [
    "NoDebt_df = pd.DataFrame(data=noDebtRun_data[1:,:])\n",
    "# df.head()"
   ]
  },
  {
   "cell_type": "code",
   "execution_count": 9,
   "metadata": {},
   "outputs": [],
   "source": [
    "# df.describe()"
   ]
  },
  {
   "cell_type": "code",
   "execution_count": 10,
   "metadata": {},
   "outputs": [],
   "source": [
    "noDebtMean_data = np.zeros((N,2))\n",
    "for j in range(N):\n",
    "    noDebtMean_data[j,0] = j\n",
    "    noDebtMean_data[j,1] = NoDebt_df.mean(0)[j]\n",
    "# mean_data"
   ]
  },
  {
   "cell_type": "code",
   "execution_count": 11,
   "metadata": {},
   "outputs": [
    {
     "data": {
      "image/png": "[encoded data removed]",
      "text/plain": [
       "<matplotlib.figure.Figure at 0x1c21a90f4e0>"
      ]
     },
     "metadata": {},
     "output_type": "display_data"
    }
   ],
   "source": [
    "x = range(N)\n",
    "plt.bar(noDebtMean_data[:,0], noDebtMean_data[:,1])\n",
    "plt.xlabel('Agents id')\n",
    "plt.ylabel('Whealth')\n",
    "plt.title('Random Wealth Game - Mean values of a batch of ' + str(runs) + ' runs')\n",
    "plt.grid(True)\n",
    "plt.show()"
   ]
  },
  {
   "cell_type": "markdown",
   "metadata": {
    "collapsed": true
   },
   "source": [
    "# 2nd Simulation - Debt allowed"
   ]
  },
  {
   "cell_type": "code",
   "execution_count": 12,
   "metadata": {
    "collapsed": true
   },
   "outputs": [],
   "source": [
    "# Creating agents\n",
    "\n",
    "# Defining parameters\n",
    "N = 10\n",
    "wealth = 1\n",
    "agents = []\n",
    "debt = 'yes' # valid choices: 'yes', 'no'\n",
    "\n",
    "for i in range(N):\n",
    "    unique_id = i\n",
    "    agents.append(Agent(unique_id, wealth, N, debt))\n",
    "\n",
    "# Starting game\n",
    "run_data = np.arange(N)\n",
    "runs = 500\n",
    "steps = 100\n",
    "for k in range(runs):\n",
    "    for i in range(steps):\n",
    "        # Initialize agents Rrandomly\n",
    "        np.random.shuffle(agents)\n",
    "\n",
    "        # Tick\n",
    "        for agent in agents:\n",
    "            receiver, amount = agent.GiveMoney()\n",
    "            if amount !=0:\n",
    "                agents[receiver].Receive()\n",
    "\n",
    "    # Data collection\n",
    "    data = np.zeros((N,2))\n",
    "    for i in range(len(agents)):\n",
    "        data[i,0] = agents[i].id\n",
    "        data[i,1] = agents[i].wealth\n",
    "\n",
    "    # Sort array\n",
    "    d = data[data[:,0].argsort()][:,1]\n",
    "    debtRun_data = np.vstack((run_data, d))"
   ]
  },
  {
   "cell_type": "code",
   "execution_count": 13,
   "metadata": {
    "collapsed": true
   },
   "outputs": [],
   "source": [
    "debt_df = pd.DataFrame(data=debtRun_data[1:,:])"
   ]
  },
  {
   "cell_type": "code",
   "execution_count": 14,
   "metadata": {
    "collapsed": true
   },
   "outputs": [],
   "source": [
    "debtMean_data = np.zeros((N,2))\n",
    "for j in range(N):\n",
    "    debtMean_data[j,0] = j\n",
    "    debtMean_data[j,1] = debt_df.mean(0)[j]"
   ]
  },
  {
   "cell_type": "code",
   "execution_count": 15,
   "metadata": {},
   "outputs": [
    {
     "data": {
      "image/png": "[encoded data removed]",
      "text/plain": [
       "<matplotlib.figure.Figure at 0x1c21ad9c2b0>"
      ]
     },
     "metadata": {},
     "output_type": "display_data"
    }
   ],
   "source": [
    "x = range(N)\n",
    "plt.bar(debtMean_data[:,0], debtMean_data[:,1])\n",
    "plt.xlabel('Agents id')\n",
    "plt.ylabel('Whealth')\n",
    "plt.title('Random Wealth Game - Mean values of a batch of ' + str(runs) + ' runs')\n",
    "plt.grid(True)\n",
    "plt.show()"
   ]
  },
  {
   "cell_type": "markdown",
   "metadata": {},
   "source": [
    "# 3rd Simulation - Debt allowed, different initial wealth"
   ]
  },
  {
   "cell_type": "code",
   "execution_count": 20,
   "metadata": {
    "collapsed": true
   },
   "outputs": [],
   "source": [
    "# Creating agents\n",
    "\n",
    "# Defining parameters\n",
    "N = 10\n",
    "agents = []\n",
    "debt = 'yes' # valid choices: 'yes', 'no'\n",
    "\n",
    "for i in range(N):\n",
    "    wealth = np.random.randint(10)\n",
    "    unique_id = i\n",
    "    agents.append(Agent(unique_id, wealth, N, debt))\n",
    "\n",
    "# Starting game\n",
    "run_data = np.arange(N)\n",
    "runs = 500\n",
    "steps = 100\n",
    "for k in range(runs):\n",
    "    for i in range(steps):\n",
    "        # Initialize agents Rrandomly\n",
    "        np.random.shuffle(agents)\n",
    "\n",
    "        # Tick\n",
    "        for agent in agents:\n",
    "            receiver, amount = agent.GiveMoney()\n",
    "            if amount !=0:\n",
    "                agents[receiver].Receive()\n",
    "\n",
    "    # Data collection\n",
    "    data = np.zeros((N,2))\n",
    "    for i in range(len(agents)):\n",
    "        data[i,0] = agents[i].id\n",
    "        data[i,1] = agents[i].wealth\n",
    "\n",
    "    # Sort array\n",
    "    d = data[data[:,0].argsort()][:,1]\n",
    "    debtDiffWealthRun_data = np.vstack((run_data, d))"
   ]
  },
  {
   "cell_type": "code",
   "execution_count": 21,
   "metadata": {
    "collapsed": true
   },
   "outputs": [],
   "source": [
    "debtDiffWealth_df = pd.DataFrame(data=debtDiffWealthRun_data[1:,:])"
   ]
  },
  {
   "cell_type": "code",
   "execution_count": 22,
   "metadata": {
    "collapsed": true
   },
   "outputs": [],
   "source": [
    "debtDiffWealthMean_data = np.zeros((N,2))\n",
    "for j in range(N):\n",
    "    debtDiffWealthMean_data[j,0] = j\n",
    "    debtDiffWealthMean_data[j,1] = debtDiffWealth_df.mean(0)[j]"
   ]
  },
  {
   "cell_type": "code",
   "execution_count": 23,
   "metadata": {},
   "outputs": [
    {
     "data": {
      "image/png": "[encoded data removed]",
      "text/plain": [
       "<matplotlib.figure.Figure at 0x1c21ad060b8>"
      ]
     },
     "metadata": {},
     "output_type": "display_data"
    }
   ],
   "source": [
    "x = range(N)\n",
    "plt.bar(debtDiffWealthMean_data[:,0], debtDiffWealthMean_data[:,1])\n",
    "plt.xlabel('Agents id')\n",
    "plt.ylabel('Whealth')\n",
    "plt.title('Random Wealth Game - Mean values of a batch of ' + str(runs) + ' runs')\n",
    "plt.grid(True)\n",
    "plt.show()"
   ]
  }
 ],
 "metadata": {
  "kernelspec": {
   "display_name": "Python 3",
   "language": "python",
   "name": "python3"
  },
  "language_info": {
   "codemirror_mode": {
    "name": "ipython",
    "version": 3
   },
   "file_extension": ".py",
   "mimetype": "text/x-python",
   "name": "python",
   "nbconvert_exporter": "python",
   "pygments_lexer": "ipython3",
   "version": "3.6.1"
  }
 },
 "nbformat": 4,
 "nbformat_minor": 2
}
